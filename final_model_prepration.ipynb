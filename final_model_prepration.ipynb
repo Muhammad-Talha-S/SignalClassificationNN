{
 "cells": [
  {
   "cell_type": "code",
   "execution_count": 1,
   "id": "6e1b0e86",
   "metadata": {},
   "outputs": [],
   "source": [
    "from pathlib import Path\n",
    "import pandas as pd\n",
    "import plotly.express as px\n",
    "import numpy as np\n",
    "import matplotlib.pyplot as plt"
   ]
  },
  {
   "cell_type": "code",
   "execution_count": 2,
   "id": "a9620dc6",
   "metadata": {},
   "outputs": [],
   "source": [
    "import tensorflow as tf\n",
    "from tensorflow.keras.models import Sequential\n",
    "from tensorflow.keras.layers import Conv1D, MaxPooling1D, Flatten, Dense, Dropout\n",
    "from sklearn.model_selection import train_test_split"
   ]
  },
  {
   "cell_type": "code",
   "execution_count": 3,
   "id": "13cf7ee3",
   "metadata": {},
   "outputs": [],
   "source": [
    "def visualize_signal(dataframe, source_no=1, sample_index=0):\n",
    "    sampled_points = 3400\n",
    "    x_axis = list(range(sampled_points))    \n",
    "    sample_1 = dataframe.iloc[sample_index].tolist()\n",
    "\n",
    "    # Create a DataFrame from the lists\n",
    "    df = pd.DataFrame({\n",
    "        'x_axis': x_axis,\n",
    "        'y_axis': sample_1\n",
    "    })\n",
    "    # Create a line chart\n",
    "    fig= px.line(df, x='x_axis', y='y_axis', title=f'Source {source_no} Sample {sample_index}')\n",
    "    # Show the plot\n",
    "    fig.show()"
   ]
  },
  {
   "cell_type": "code",
   "execution_count": 7,
   "id": "2bb96e93",
   "metadata": {},
   "outputs": [
    {
     "name": "stdout",
     "output_type": "stream",
     "text": [
      "Here is data\n",
      "     0     1     2     3     4     5         6         7         8     \\\n",
      "0      2     4    99  5795    23  3400  0.000384  0.000640  0.001408   \n",
      "1      2     4    96  5532    23  3400 -0.003712 -0.003968 -0.004608   \n",
      "2      2     4    96  5512    23  3400 -0.000640 -0.000512 -0.000768   \n",
      "3      2     4    64  1843    23  3400 -0.001152 -0.000896 -0.000384   \n",
      "4      2     4    55   883    23  3400 -0.002176 -0.001920 -0.001024   \n",
      "5      2     4    51   400    23  3400  0.016895  0.011903  0.006016   \n",
      "6      2     4    69  2464    23  3400  0.000768  0.001152  0.001792   \n",
      "7      2     4    77  3305    23  3400  0.014463  0.011519  0.008319   \n",
      "8      2     4    51   400    23  3400 -0.000256  0.000256  0.000384   \n",
      "9      2     4    53   606    23  3400  0.000128 -0.000384 -0.001408   \n",
      "10     2     4    62  1579    23  3400 -0.002176 -0.001664 -0.001408   \n",
      "11     2     4    54   699    23  3400  0.000256  0.000768  0.000896   \n",
      "12     2     4    64  1826    23  3400  0.001664  0.002560  0.002432   \n",
      "13     2     4    81  3734    23  3400  0.002048  0.003456  0.004608   \n",
      "14     2     4    81  3811    23  3400  0.002432  0.002944  0.003584   \n",
      "15     2     4    76  3212    23  3400 -0.001152 -0.000512  0.000000   \n",
      "16     2     4    76  3240    23  3400  0.001408  0.001024  0.001024   \n",
      "17     2     4    74  2964    23  3400 -0.000512 -0.000256 -0.000384   \n",
      "18     2     4    83  3991    23  3400 -0.018558 -0.020350 -0.021374   \n",
      "19     2     4    71  2630    23  3400 -0.006143 -0.008319 -0.010111   \n",
      "20     2     4    67  2160    23  3400 -0.000384 -0.001920 -0.002816   \n",
      "21     2     4    66  2097    23  3400  0.008319  0.008959  0.009599   \n",
      "22     2     4    85  4186    23  3400 -0.013823 -0.012287 -0.011391   \n",
      "23     2     4    74  2948    23  3400 -0.002432 -0.002816 -0.002048   \n",
      "24     2     4    77  3356    23  3400 -0.002432 -0.001920 -0.002304   \n",
      "25     2     4    80  3638    23  3400 -0.012543 -0.013823 -0.015871   \n",
      "26     2     4    87  4483    23  3400  0.009855  0.008447  0.007295   \n",
      "27     2     4    79  3514    23  3400  0.002304  0.002432  0.001280   \n",
      "28     2     4    76  3162    23  3400 -0.003712 -0.003584 -0.002816   \n",
      "29     2     4    77  3364    23  3400  0.002304  0.001920  0.000768   \n",
      "30     2     4    83  3959    23  3400  0.004352  0.004096  0.004224   \n",
      "31     2     4    92  5015    23  3400  0.005248  0.005504  0.005120   \n",
      "32     2     4    89  4708    23  3400  0.001792  0.000896  0.000000   \n",
      "33     2     4    82  3927    23  3400  0.006399  0.006911  0.007423   \n",
      "34     2     4    97  5545    23  3400  0.003584  0.004096  0.003840   \n",
      "35     2     4    96  5465    23  3400  0.001408  0.001664  0.001664   \n",
      "36     2     4    95  5344    23  3400  0.000768  0.001024  0.000896   \n",
      "37     2     4   105  6491    23  3400 -0.007551 -0.007423 -0.007423   \n",
      "38     2     4   117  7855    23  3400  0.011263  0.012031  0.011903   \n",
      "39     2     4   130  9347    23  3400  0.022014  0.020862  0.018942   \n",
      "40     2     4    90  4741    23  3400 -0.002304 -0.002176 -0.001408   \n",
      "41     2     4    73  2898    23  3400 -0.002816 -0.002688 -0.002560   \n",
      "42     2     4    85  4244    23  3400 -0.000256  0.000000  0.000128   \n",
      "43     2     4   107  6744    23  3400 -0.000512  0.000640  0.001920   \n",
      "44     2     4    97  5552    23  3400 -0.001792 -0.002432 -0.003072   \n",
      "45     2     4    99  5835    23  3400 -0.001408 -0.001408 -0.001152   \n",
      "46     2     4    94  5258    23  3400 -0.001536 -0.001280 -0.001280   \n",
      "47     2     4    98  5716    23  3400  0.001152  0.000256  0.000256   \n",
      "48     2     4    79  3606    23  3400 -0.000384 -0.000768 -0.000768   \n",
      "49     2     4    62  1649    23  3400 -0.001792 -0.002048 -0.001792   \n",
      "\n",
      "        9     ...      3396      3397      3398      3399      3400      3401  \\\n",
      "0   0.001792  ... -0.010111 -0.010879 -0.011519 -0.011391 -0.011647 -0.011775   \n",
      "1  -0.004992  ... -0.006399 -0.006271 -0.006016 -0.005760 -0.004864 -0.003840   \n",
      "2  -0.000640  ... -0.006271 -0.006911 -0.006911 -0.006783 -0.006911 -0.006399   \n",
      "3   0.000128  ...  0.011519  0.013183  0.013695  0.013951  0.014463  0.014463   \n",
      "4  -0.000640  ... -0.009855 -0.009471 -0.008703 -0.007679 -0.006271 -0.006016   \n",
      "5  -0.000128  ...  0.000768  0.001920  0.002688  0.002944  0.003456  0.004352   \n",
      "6   0.002048  ...  0.000000 -0.001152 -0.001024  0.000768  0.001792  0.004096   \n",
      "7   0.005632  ...  0.001664  0.001920  0.002304  0.002176  0.002048  0.002688   \n",
      "8   0.000512  ... -0.015359 -0.014591 -0.013695 -0.012671 -0.011519 -0.009471   \n",
      "9  -0.001536  ...  0.021758  0.021886  0.020350  0.019326  0.017535  0.015103   \n",
      "10 -0.001408  ... -0.002944 -0.003072 -0.003456 -0.003840 -0.003328 -0.003072   \n",
      "11  0.000896  ... -0.007423 -0.006399 -0.005248 -0.003200 -0.001664 -0.000256   \n",
      "12  0.001664  ... -0.006271 -0.007423 -0.008959 -0.010495 -0.011263 -0.011391   \n",
      "13  0.005248  ... -0.000384  0.000000  0.001024  0.000256  0.000512  0.000768   \n",
      "14  0.004096  ... -0.003200 -0.002048 -0.001280 -0.001536 -0.000384  0.000128   \n",
      "15  0.000768  ... -0.004480 -0.004480 -0.003840 -0.002816 -0.002432 -0.002048   \n",
      "16  0.001024  ... -0.016511 -0.017407 -0.018687 -0.019454 -0.019710 -0.019454   \n",
      "17 -0.000384  ... -0.000128 -0.000512 -0.000256 -0.000768 -0.001408 -0.001920   \n",
      "18 -0.021886  ...  0.008191  0.007167  0.006783  0.006527  0.006143  0.006016   \n",
      "19 -0.012543  ... -0.003456 -0.002560 -0.002560 -0.002176 -0.001664 -0.001280   \n",
      "20 -0.004224  ...  0.015743  0.015487  0.015231  0.014463  0.013055  0.012415   \n",
      "21  0.009727  ...  0.004992  0.005504  0.005248  0.005120  0.005120  0.004096   \n",
      "22 -0.010879  ... -0.002944 -0.003712 -0.005248 -0.006783 -0.008447 -0.009599   \n",
      "23 -0.001664  ...  0.001408  0.000640 -0.000128 -0.000768 -0.001536 -0.002048   \n",
      "24 -0.002432  ...  0.001536  0.001792  0.002048  0.002816  0.002688  0.003328   \n",
      "25 -0.016767  ... -0.000384  0.000000 -0.000256  0.000000 -0.000128 -0.001280   \n",
      "26  0.006016  ... -0.025982 -0.026110 -0.025854 -0.025086 -0.023934 -0.022142   \n",
      "27  0.000768  ... -0.002688 -0.002432 -0.002048 -0.001792 -0.001664 -0.001280   \n",
      "28 -0.002304  ... -0.002432 -0.002560 -0.002816 -0.002432 -0.002688 -0.002688   \n",
      "29 -0.000512  ...  0.005376  0.003712  0.001792  0.000000 -0.001920 -0.003584   \n",
      "30  0.004224  ... -0.000640 -0.001152 -0.001152 -0.000896 -0.000768 -0.001152   \n",
      "31  0.005248  ... -0.001792 -0.002304 -0.002432 -0.002816 -0.003456 -0.003712   \n",
      "32 -0.000256  ... -0.003328 -0.003456 -0.003584 -0.003968 -0.004864 -0.005888   \n",
      "33  0.007167  ... -0.007423 -0.007423 -0.007039 -0.005632 -0.004864 -0.004224   \n",
      "34  0.004224  ... -0.002944 -0.003072 -0.003840 -0.003968 -0.003840 -0.003328   \n",
      "35  0.001280  ... -0.005248 -0.004608 -0.004480 -0.004864 -0.004096 -0.003968   \n",
      "36  0.001280  ...  0.017791  0.017791  0.017535  0.016639  0.015103  0.013823   \n",
      "37 -0.007423  ...  0.005888  0.003072  0.000256 -0.002432 -0.003200 -0.003840   \n",
      "38  0.012287  ... -0.001152 -0.001408 -0.001792 -0.001792 -0.001920 -0.001152   \n",
      "39  0.016895  ...  0.001024  0.000896 -0.000512 -0.001792 -0.001792 -0.002048   \n",
      "40 -0.001792  ... -0.005888 -0.005632 -0.005760 -0.005504 -0.004608 -0.003968   \n",
      "41 -0.001792  ... -0.002816 -0.007551 -0.012287 -0.017407 -0.021118 -0.025598   \n",
      "42  0.000000  ... -0.008959 -0.009215 -0.009087 -0.008831 -0.008191 -0.007551   \n",
      "43  0.002304  ... -0.005120 -0.005760 -0.007039 -0.007807 -0.009087 -0.010495   \n",
      "44 -0.003584  ...  0.007039  0.006271  0.004352  0.003072  0.001920  0.000128   \n",
      "45 -0.001408  ...  0.001280  0.001536  0.001280  0.001408  0.002048  0.001920   \n",
      "46 -0.001152  ... -0.018174 -0.012671 -0.007679 -0.002944  0.002304  0.007679   \n",
      "47  0.000000  ... -0.000384 -0.000384 -0.000384 -0.000128  0.000256  0.000896   \n",
      "48 -0.000768  ... -0.012671 -0.018047 -0.023166 -0.027646 -0.031741 -0.034685   \n",
      "49 -0.001152  ...  0.006655  0.005760  0.005248  0.004224  0.003456  0.002048   \n",
      "\n",
      "        3402      3403      3404      3405  \n",
      "0  -0.011391 -0.011263 -0.010623 -0.009215  \n",
      "1  -0.002816 -0.002176 -0.001920 -0.001792  \n",
      "2  -0.006016 -0.005376 -0.004352 -0.003328  \n",
      "3   0.014335  0.013823  0.013311  0.012159  \n",
      "4  -0.005504 -0.004352 -0.002944 -0.001920  \n",
      "5   0.004608  0.004736  0.005632  0.005760  \n",
      "6   0.004480  0.003712  0.003712  0.003072  \n",
      "7   0.002560  0.002816  0.003328  0.003712  \n",
      "8  -0.008447 -0.006143 -0.004608 -0.002176  \n",
      "9   0.012927  0.010623  0.008191  0.004480  \n",
      "10 -0.003840 -0.003584 -0.003328 -0.003328  \n",
      "11  0.001664  0.003456  0.004352  0.005632  \n",
      "12 -0.011775 -0.012287 -0.013055 -0.013823  \n",
      "13  0.000768  0.000512  0.000128  0.000000  \n",
      "14  0.000768  0.001024  0.001536  0.001792  \n",
      "15 -0.002048 -0.002304 -0.001280 -0.000256  \n",
      "16 -0.018430 -0.017407 -0.016255 -0.015615  \n",
      "17 -0.002560 -0.002688 -0.002944 -0.003968  \n",
      "18  0.005248  0.003840  0.002304  0.001152  \n",
      "19 -0.001280 -0.001024 -0.000768 -0.000256  \n",
      "20  0.011135  0.009471  0.007551  0.005760  \n",
      "21  0.004096  0.004480  0.004224  0.003968  \n",
      "22 -0.010239 -0.010495 -0.011135 -0.011391  \n",
      "23 -0.002176 -0.002688 -0.002816 -0.003584  \n",
      "24  0.003328  0.003456  0.003456  0.003328  \n",
      "25 -0.002048 -0.002688 -0.003072 -0.003584  \n",
      "26 -0.020350 -0.017279 -0.014207 -0.012031  \n",
      "27 -0.001280 -0.000640  0.000128  0.000000  \n",
      "28 -0.002688 -0.003200 -0.003200 -0.003328  \n",
      "29 -0.005376 -0.006527 -0.007423 -0.008959  \n",
      "30 -0.001792 -0.001536 -0.000896 -0.000768  \n",
      "31 -0.002816 -0.003456 -0.003456 -0.004096  \n",
      "32 -0.006911 -0.008319 -0.007807 -0.008191  \n",
      "33 -0.003584 -0.002560 -0.002048 -0.001536  \n",
      "34 -0.003328 -0.003200 -0.003584 -0.003072  \n",
      "35 -0.004096 -0.003456 -0.003072 -0.002944  \n",
      "36  0.012287  0.010623  0.008191  0.006271  \n",
      "37 -0.005376 -0.006399 -0.007039 -0.007039  \n",
      "38 -0.000640 -0.000256 -0.000512 -0.000384  \n",
      "39 -0.003200 -0.003968 -0.004992 -0.005376  \n",
      "40 -0.004224 -0.004096 -0.003712 -0.002944  \n",
      "41 -0.029310 -0.032381 -0.034557 -0.036477  \n",
      "42 -0.006399 -0.004992 -0.003840 -0.002944  \n",
      "43 -0.010495 -0.010623 -0.010879 -0.010879  \n",
      "44 -0.002304 -0.004608 -0.005376 -0.006016  \n",
      "45  0.001792  0.001280  0.000768  0.000512  \n",
      "46  0.012799  0.018430  0.022526  0.026494  \n",
      "47  0.001280  0.002304  0.002304  0.002048  \n",
      "48 -0.037757 -0.039933 -0.041853 -0.042493  \n",
      "49 -0.000128 -0.001280 -0.002304 -0.004224  \n",
      "\n",
      "[50 rows x 3406 columns]\n"
     ]
    }
   ],
   "source": [
    "source_1_file = Path(\"excel_files\\source_1.xlsx\")\n",
    "source_2_file = Path(\"excel_files\\source_2.xlsx\")\n",
    "\n",
    "source_1_df = pd.read_excel(source_1_file, header=None)\n",
    "source_2_df = pd.read_excel(source_2_file, header=None)\n",
    "\n",
    "print(\"Here is data\\n\", source_1_df)"
   ]
  },
  {
   "cell_type": "code",
   "execution_count": 8,
   "id": "7e4a05f7",
   "metadata": {},
   "outputs": [],
   "source": [
    "column_names = [f'DP-{i}' for i in range(1, 3401)]\n",
    "\n",
    "source_1_df = source_1_df.drop(source_1_df.columns[:6], axis=1)\n",
    "source_1_df.columns = column_names\n",
    "source_1_df['source'] = 0 # 0 for source 1\n",
    "\n",
    "source_2_df = source_2_df.drop(source_2_df.columns[:6], axis=1)\n",
    "source_2_df.columns = column_names\n",
    "source_2_df['source'] = 1 # 1 for source 2\n",
    "\n",
    "dataframe = pd.concat([source_1_df, source_2_df], axis=0)\n",
    "dataframe = dataframe.reset_index(drop=True)\n",
    "dataframe.to_excel('dataframe.xlsx', index=False)"
   ]
  },
  {
   "cell_type": "code",
   "execution_count": 9,
   "id": "3eec7945",
   "metadata": {},
   "outputs": [
    {
     "name": "stderr",
     "output_type": "stream",
     "text": [
      "C:\\Users\\Dell\\AppData\\Local\\Packages\\PythonSoftwareFoundation.Python.3.9_qbz5n2kfra8p0\\LocalCache\\local-packages\\Python39\\site-packages\\keras\\src\\layers\\convolutional\\base_conv.py:107: UserWarning: Do not pass an `input_shape`/`input_dim` argument to a layer. When using Sequential models, prefer using an `Input(shape)` object as the first layer in the model instead.\n",
      "  super().__init__(activity_regularizer=activity_regularizer, **kwargs)\n"
     ]
    },
    {
     "data": {
      "text/html": [
       "<pre style=\"white-space:pre;overflow-x:auto;line-height:normal;font-family:Menlo,'DejaVu Sans Mono',consolas,'Courier New',monospace\"><span style=\"font-weight: bold\">Model: \"sequential\"</span>\n",
       "</pre>\n"
      ],
      "text/plain": [
       "\u001b[1mModel: \"sequential\"\u001b[0m\n"
      ]
     },
     "metadata": {},
     "output_type": "display_data"
    },
    {
     "data": {
      "text/html": [
       "<pre style=\"white-space:pre;overflow-x:auto;line-height:normal;font-family:Menlo,'DejaVu Sans Mono',consolas,'Courier New',monospace\">┏━━━━━━━━━━━━━━━━━━━━━━━━━━━━━━━━━┳━━━━━━━━━━━━━━━━━━━━━━━━┳━━━━━━━━━━━━━━━┓\n",
       "┃<span style=\"font-weight: bold\"> Layer (type)                    </span>┃<span style=\"font-weight: bold\"> Output Shape           </span>┃<span style=\"font-weight: bold\">       Param # </span>┃\n",
       "┡━━━━━━━━━━━━━━━━━━━━━━━━━━━━━━━━━╇━━━━━━━━━━━━━━━━━━━━━━━━╇━━━━━━━━━━━━━━━┩\n",
       "│ conv1d (<span style=\"color: #0087ff; text-decoration-color: #0087ff\">Conv1D</span>)                 │ (<span style=\"color: #00d7ff; text-decoration-color: #00d7ff\">None</span>, <span style=\"color: #00af00; text-decoration-color: #00af00\">3396</span>, <span style=\"color: #00af00; text-decoration-color: #00af00\">64</span>)       │           <span style=\"color: #00af00; text-decoration-color: #00af00\">384</span> │\n",
       "├─────────────────────────────────┼────────────────────────┼───────────────┤\n",
       "│ max_pooling1d (<span style=\"color: #0087ff; text-decoration-color: #0087ff\">MaxPooling1D</span>)    │ (<span style=\"color: #00d7ff; text-decoration-color: #00d7ff\">None</span>, <span style=\"color: #00af00; text-decoration-color: #00af00\">1698</span>, <span style=\"color: #00af00; text-decoration-color: #00af00\">64</span>)       │             <span style=\"color: #00af00; text-decoration-color: #00af00\">0</span> │\n",
       "├─────────────────────────────────┼────────────────────────┼───────────────┤\n",
       "│ conv1d_1 (<span style=\"color: #0087ff; text-decoration-color: #0087ff\">Conv1D</span>)               │ (<span style=\"color: #00d7ff; text-decoration-color: #00d7ff\">None</span>, <span style=\"color: #00af00; text-decoration-color: #00af00\">1694</span>, <span style=\"color: #00af00; text-decoration-color: #00af00\">128</span>)      │        <span style=\"color: #00af00; text-decoration-color: #00af00\">41,088</span> │\n",
       "├─────────────────────────────────┼────────────────────────┼───────────────┤\n",
       "│ max_pooling1d_1 (<span style=\"color: #0087ff; text-decoration-color: #0087ff\">MaxPooling1D</span>)  │ (<span style=\"color: #00d7ff; text-decoration-color: #00d7ff\">None</span>, <span style=\"color: #00af00; text-decoration-color: #00af00\">847</span>, <span style=\"color: #00af00; text-decoration-color: #00af00\">128</span>)       │             <span style=\"color: #00af00; text-decoration-color: #00af00\">0</span> │\n",
       "├─────────────────────────────────┼────────────────────────┼───────────────┤\n",
       "│ conv1d_2 (<span style=\"color: #0087ff; text-decoration-color: #0087ff\">Conv1D</span>)               │ (<span style=\"color: #00d7ff; text-decoration-color: #00d7ff\">None</span>, <span style=\"color: #00af00; text-decoration-color: #00af00\">843</span>, <span style=\"color: #00af00; text-decoration-color: #00af00\">256</span>)       │       <span style=\"color: #00af00; text-decoration-color: #00af00\">164,096</span> │\n",
       "├─────────────────────────────────┼────────────────────────┼───────────────┤\n",
       "│ max_pooling1d_2 (<span style=\"color: #0087ff; text-decoration-color: #0087ff\">MaxPooling1D</span>)  │ (<span style=\"color: #00d7ff; text-decoration-color: #00d7ff\">None</span>, <span style=\"color: #00af00; text-decoration-color: #00af00\">421</span>, <span style=\"color: #00af00; text-decoration-color: #00af00\">256</span>)       │             <span style=\"color: #00af00; text-decoration-color: #00af00\">0</span> │\n",
       "├─────────────────────────────────┼────────────────────────┼───────────────┤\n",
       "│ flatten (<span style=\"color: #0087ff; text-decoration-color: #0087ff\">Flatten</span>)               │ (<span style=\"color: #00d7ff; text-decoration-color: #00d7ff\">None</span>, <span style=\"color: #00af00; text-decoration-color: #00af00\">107776</span>)         │             <span style=\"color: #00af00; text-decoration-color: #00af00\">0</span> │\n",
       "├─────────────────────────────────┼────────────────────────┼───────────────┤\n",
       "│ dense (<span style=\"color: #0087ff; text-decoration-color: #0087ff\">Dense</span>)                   │ (<span style=\"color: #00d7ff; text-decoration-color: #00d7ff\">None</span>, <span style=\"color: #00af00; text-decoration-color: #00af00\">128</span>)            │    <span style=\"color: #00af00; text-decoration-color: #00af00\">13,795,456</span> │\n",
       "├─────────────────────────────────┼────────────────────────┼───────────────┤\n",
       "│ dropout (<span style=\"color: #0087ff; text-decoration-color: #0087ff\">Dropout</span>)               │ (<span style=\"color: #00d7ff; text-decoration-color: #00d7ff\">None</span>, <span style=\"color: #00af00; text-decoration-color: #00af00\">128</span>)            │             <span style=\"color: #00af00; text-decoration-color: #00af00\">0</span> │\n",
       "├─────────────────────────────────┼────────────────────────┼───────────────┤\n",
       "│ dense_1 (<span style=\"color: #0087ff; text-decoration-color: #0087ff\">Dense</span>)                 │ (<span style=\"color: #00d7ff; text-decoration-color: #00d7ff\">None</span>, <span style=\"color: #00af00; text-decoration-color: #00af00\">64</span>)             │         <span style=\"color: #00af00; text-decoration-color: #00af00\">8,256</span> │\n",
       "├─────────────────────────────────┼────────────────────────┼───────────────┤\n",
       "│ dense_2 (<span style=\"color: #0087ff; text-decoration-color: #0087ff\">Dense</span>)                 │ (<span style=\"color: #00d7ff; text-decoration-color: #00d7ff\">None</span>, <span style=\"color: #00af00; text-decoration-color: #00af00\">1</span>)              │            <span style=\"color: #00af00; text-decoration-color: #00af00\">65</span> │\n",
       "└─────────────────────────────────┴────────────────────────┴───────────────┘\n",
       "</pre>\n"
      ],
      "text/plain": [
       "┏━━━━━━━━━━━━━━━━━━━━━━━━━━━━━━━━━┳━━━━━━━━━━━━━━━━━━━━━━━━┳━━━━━━━━━━━━━━━┓\n",
       "┃\u001b[1m \u001b[0m\u001b[1mLayer (type)                   \u001b[0m\u001b[1m \u001b[0m┃\u001b[1m \u001b[0m\u001b[1mOutput Shape          \u001b[0m\u001b[1m \u001b[0m┃\u001b[1m \u001b[0m\u001b[1m      Param #\u001b[0m\u001b[1m \u001b[0m┃\n",
       "┡━━━━━━━━━━━━━━━━━━━━━━━━━━━━━━━━━╇━━━━━━━━━━━━━━━━━━━━━━━━╇━━━━━━━━━━━━━━━┩\n",
       "│ conv1d (\u001b[38;5;33mConv1D\u001b[0m)                 │ (\u001b[38;5;45mNone\u001b[0m, \u001b[38;5;34m3396\u001b[0m, \u001b[38;5;34m64\u001b[0m)       │           \u001b[38;5;34m384\u001b[0m │\n",
       "├─────────────────────────────────┼────────────────────────┼───────────────┤\n",
       "│ max_pooling1d (\u001b[38;5;33mMaxPooling1D\u001b[0m)    │ (\u001b[38;5;45mNone\u001b[0m, \u001b[38;5;34m1698\u001b[0m, \u001b[38;5;34m64\u001b[0m)       │             \u001b[38;5;34m0\u001b[0m │\n",
       "├─────────────────────────────────┼────────────────────────┼───────────────┤\n",
       "│ conv1d_1 (\u001b[38;5;33mConv1D\u001b[0m)               │ (\u001b[38;5;45mNone\u001b[0m, \u001b[38;5;34m1694\u001b[0m, \u001b[38;5;34m128\u001b[0m)      │        \u001b[38;5;34m41,088\u001b[0m │\n",
       "├─────────────────────────────────┼────────────────────────┼───────────────┤\n",
       "│ max_pooling1d_1 (\u001b[38;5;33mMaxPooling1D\u001b[0m)  │ (\u001b[38;5;45mNone\u001b[0m, \u001b[38;5;34m847\u001b[0m, \u001b[38;5;34m128\u001b[0m)       │             \u001b[38;5;34m0\u001b[0m │\n",
       "├─────────────────────────────────┼────────────────────────┼───────────────┤\n",
       "│ conv1d_2 (\u001b[38;5;33mConv1D\u001b[0m)               │ (\u001b[38;5;45mNone\u001b[0m, \u001b[38;5;34m843\u001b[0m, \u001b[38;5;34m256\u001b[0m)       │       \u001b[38;5;34m164,096\u001b[0m │\n",
       "├─────────────────────────────────┼────────────────────────┼───────────────┤\n",
       "│ max_pooling1d_2 (\u001b[38;5;33mMaxPooling1D\u001b[0m)  │ (\u001b[38;5;45mNone\u001b[0m, \u001b[38;5;34m421\u001b[0m, \u001b[38;5;34m256\u001b[0m)       │             \u001b[38;5;34m0\u001b[0m │\n",
       "├─────────────────────────────────┼────────────────────────┼───────────────┤\n",
       "│ flatten (\u001b[38;5;33mFlatten\u001b[0m)               │ (\u001b[38;5;45mNone\u001b[0m, \u001b[38;5;34m107776\u001b[0m)         │             \u001b[38;5;34m0\u001b[0m │\n",
       "├─────────────────────────────────┼────────────────────────┼───────────────┤\n",
       "│ dense (\u001b[38;5;33mDense\u001b[0m)                   │ (\u001b[38;5;45mNone\u001b[0m, \u001b[38;5;34m128\u001b[0m)            │    \u001b[38;5;34m13,795,456\u001b[0m │\n",
       "├─────────────────────────────────┼────────────────────────┼───────────────┤\n",
       "│ dropout (\u001b[38;5;33mDropout\u001b[0m)               │ (\u001b[38;5;45mNone\u001b[0m, \u001b[38;5;34m128\u001b[0m)            │             \u001b[38;5;34m0\u001b[0m │\n",
       "├─────────────────────────────────┼────────────────────────┼───────────────┤\n",
       "│ dense_1 (\u001b[38;5;33mDense\u001b[0m)                 │ (\u001b[38;5;45mNone\u001b[0m, \u001b[38;5;34m64\u001b[0m)             │         \u001b[38;5;34m8,256\u001b[0m │\n",
       "├─────────────────────────────────┼────────────────────────┼───────────────┤\n",
       "│ dense_2 (\u001b[38;5;33mDense\u001b[0m)                 │ (\u001b[38;5;45mNone\u001b[0m, \u001b[38;5;34m1\u001b[0m)              │            \u001b[38;5;34m65\u001b[0m │\n",
       "└─────────────────────────────────┴────────────────────────┴───────────────┘\n"
      ]
     },
     "metadata": {},
     "output_type": "display_data"
    },
    {
     "data": {
      "text/html": [
       "<pre style=\"white-space:pre;overflow-x:auto;line-height:normal;font-family:Menlo,'DejaVu Sans Mono',consolas,'Courier New',monospace\"><span style=\"font-weight: bold\"> Total params: </span><span style=\"color: #00af00; text-decoration-color: #00af00\">14,009,345</span> (53.44 MB)\n",
       "</pre>\n"
      ],
      "text/plain": [
       "\u001b[1m Total params: \u001b[0m\u001b[38;5;34m14,009,345\u001b[0m (53.44 MB)\n"
      ]
     },
     "metadata": {},
     "output_type": "display_data"
    },
    {
     "data": {
      "text/html": [
       "<pre style=\"white-space:pre;overflow-x:auto;line-height:normal;font-family:Menlo,'DejaVu Sans Mono',consolas,'Courier New',monospace\"><span style=\"font-weight: bold\"> Trainable params: </span><span style=\"color: #00af00; text-decoration-color: #00af00\">14,009,345</span> (53.44 MB)\n",
       "</pre>\n"
      ],
      "text/plain": [
       "\u001b[1m Trainable params: \u001b[0m\u001b[38;5;34m14,009,345\u001b[0m (53.44 MB)\n"
      ]
     },
     "metadata": {},
     "output_type": "display_data"
    },
    {
     "data": {
      "text/html": [
       "<pre style=\"white-space:pre;overflow-x:auto;line-height:normal;font-family:Menlo,'DejaVu Sans Mono',consolas,'Courier New',monospace\"><span style=\"font-weight: bold\"> Non-trainable params: </span><span style=\"color: #00af00; text-decoration-color: #00af00\">0</span> (0.00 B)\n",
       "</pre>\n"
      ],
      "text/plain": [
       "\u001b[1m Non-trainable params: \u001b[0m\u001b[38;5;34m0\u001b[0m (0.00 B)\n"
      ]
     },
     "metadata": {},
     "output_type": "display_data"
    }
   ],
   "source": [
    "# Build the CNN model\n",
    "model = Sequential()\n",
    "\n",
    "model.add(Conv1D(filters=64, kernel_size=5, activation='relu', input_shape=(3400, 1)))\n",
    "model.add(MaxPooling1D(pool_size=2))\n",
    "\n",
    "model.add(Conv1D(filters=128, kernel_size=5, activation='relu'))\n",
    "model.add(MaxPooling1D(pool_size=2))\n",
    "\n",
    "model.add(Conv1D(filters=256, kernel_size=5, activation='relu'))\n",
    "model.add(MaxPooling1D(pool_size=2))\n",
    "\n",
    "model.add(Flatten())\n",
    "\n",
    "model.add(Dense(128, activation='relu'))\n",
    "model.add(Dropout(0.5))\n",
    "model.add(Dense(64, activation='relu'))\n",
    "\n",
    "# Output layer for binary classification\n",
    "model.add(Dense(1, activation='sigmoid'))\n",
    "\n",
    "# Compile the model\n",
    "model.compile(optimizer=tf.keras.optimizers.Adam(learning_rate=0.0001),\n",
    "              loss='binary_crossentropy', metrics=['accuracy'])\n",
    "model.summary()"
   ]
  },
  {
   "cell_type": "code",
   "execution_count": 10,
   "id": "c529fae2",
   "metadata": {},
   "outputs": [
    {
     "name": "stdout",
     "output_type": "stream",
     "text": [
      "Epoch 1/10\n",
      "\u001b[1m4/4\u001b[0m \u001b[32m━━━━━━━━━━━━━━━━━━━━\u001b[0m\u001b[37m\u001b[0m \u001b[1m3s\u001b[0m 352ms/step - accuracy: 0.6268 - loss: 0.6860 - val_accuracy: 0.4286 - val_loss: 0.6721\n",
      "Epoch 2/10\n",
      "\u001b[1m4/4\u001b[0m \u001b[32m━━━━━━━━━━━━━━━━━━━━\u001b[0m\u001b[37m\u001b[0m \u001b[1m1s\u001b[0m 172ms/step - accuracy: 0.7494 - loss: 0.6492 - val_accuracy: 0.6429 - val_loss: 0.6409\n",
      "Epoch 3/10\n",
      "\u001b[1m4/4\u001b[0m \u001b[32m━━━━━━━━━━━━━━━━━━━━\u001b[0m\u001b[37m\u001b[0m \u001b[1m1s\u001b[0m 172ms/step - accuracy: 0.7211 - loss: 0.6003 - val_accuracy: 0.7143 - val_loss: 0.5942\n",
      "Epoch 4/10\n",
      "\u001b[1m4/4\u001b[0m \u001b[32m━━━━━━━━━━━━━━━━━━━━\u001b[0m\u001b[37m\u001b[0m \u001b[1m1s\u001b[0m 173ms/step - accuracy: 0.8378 - loss: 0.5341 - val_accuracy: 0.7857 - val_loss: 0.5234\n",
      "Epoch 5/10\n",
      "\u001b[1m4/4\u001b[0m \u001b[32m━━━━━━━━━━━━━━━━━━━━\u001b[0m\u001b[37m\u001b[0m \u001b[1m1s\u001b[0m 179ms/step - accuracy: 0.8658 - loss: 0.4439 - val_accuracy: 0.7857 - val_loss: 0.4477\n",
      "Epoch 6/10\n",
      "\u001b[1m4/4\u001b[0m \u001b[32m━━━━━━━━━━━━━━━━━━━━\u001b[0m\u001b[37m\u001b[0m \u001b[1m1s\u001b[0m 178ms/step - accuracy: 0.9411 - loss: 0.3627 - val_accuracy: 0.8571 - val_loss: 0.3416\n",
      "Epoch 7/10\n",
      "\u001b[1m4/4\u001b[0m \u001b[32m━━━━━━━━━━━━━━━━━━━━\u001b[0m\u001b[37m\u001b[0m \u001b[1m1s\u001b[0m 213ms/step - accuracy: 0.9485 - loss: 0.2796 - val_accuracy: 0.9286 - val_loss: 0.2326\n",
      "Epoch 8/10\n",
      "\u001b[1m4/4\u001b[0m \u001b[32m━━━━━━━━━━━━━━━━━━━━\u001b[0m\u001b[37m\u001b[0m \u001b[1m1s\u001b[0m 302ms/step - accuracy: 0.9039 - loss: 0.2807 - val_accuracy: 1.0000 - val_loss: 0.1625\n",
      "Epoch 9/10\n",
      "\u001b[1m4/4\u001b[0m \u001b[32m━━━━━━━━━━━━━━━━━━━━\u001b[0m\u001b[37m\u001b[0m \u001b[1m1s\u001b[0m 297ms/step - accuracy: 0.9824 - loss: 0.1445 - val_accuracy: 1.0000 - val_loss: 0.1164\n",
      "Epoch 10/10\n",
      "\u001b[1m4/4\u001b[0m \u001b[32m━━━━━━━━━━━━━━━━━━━━\u001b[0m\u001b[37m\u001b[0m \u001b[1m1s\u001b[0m 302ms/step - accuracy: 0.9711 - loss: 0.1231 - val_accuracy: 1.0000 - val_loss: 0.0794\n",
      "\u001b[1m1/1\u001b[0m \u001b[32m━━━━━━━━━━━━━━━━━━━━\u001b[0m\u001b[37m\u001b[0m \u001b[1m0s\u001b[0m 149ms/step - accuracy: 1.0000 - loss: 0.0289\n",
      "Test accuracy: 1.0\n"
     ]
    },
    {
     "data": {
      "image/png": "[encoded data removed]",
      "text/plain": [
       "<Figure size 640x480 with 1 Axes>"
      ]
     },
     "metadata": {},
     "output_type": "display_data"
    },
    {
     "data": {
      "image/png": "[encoded data removed]",
      "text/plain": [
       "<Figure size 640x480 with 1 Axes>"
      ]
     },
     "metadata": {},
     "output_type": "display_data"
    }
   ],
   "source": [
    "Y = dataframe['source'].to_numpy()\n",
    "X = dataframe.drop(columns=['source']).to_numpy()\n",
    "# Split the data into training and test sets\n",
    "X_train, X_test, Y_train, Y_test = train_test_split(X, Y, test_size=0.3, random_state=42, stratify=Y)\n",
    "\n",
    "# Reshape the data for the CNN\n",
    "X_train = X_train.reshape(X_train.shape[0], 3400, 1)\n",
    "X_test = X_test.reshape(X_test.shape[0], 3400, 1)\n",
    "\n",
    "# Train the model\n",
    "history = model.fit(X_train, Y_train, epochs=10, batch_size=16, validation_split=0.2)\n",
    "\n",
    "# Evaluate the model\n",
    "test_loss, test_acc = model.evaluate(X_test, Y_test)\n",
    "print(f'Test accuracy: {test_acc}')\n",
    "\n",
    "# Plot training & validation accuracy values\n",
    "plt.plot(history.history['accuracy'])\n",
    "plt.plot(history.history['val_accuracy'])\n",
    "plt.title('Model accuracy')\n",
    "plt.xlabel('Epoch')\n",
    "plt.ylabel('Accuracy')\n",
    "plt.legend(['Train', 'Validation'], loc='upper left')\n",
    "plt.show()\n",
    "\n",
    "# Plot training & validation loss values\n",
    "plt.plot(history.history['loss'])\n",
    "plt.plot(history.history['val_loss'])\n",
    "plt.title('Model loss')\n",
    "plt.xlabel('Epoch')\n",
    "plt.ylabel('Loss')\n",
    "plt.legend(['Train', 'Validation'], loc='upper left')\n",
    "plt.show()"
   ]
  },
  {
   "cell_type": "code",
   "execution_count": 8,
   "id": "4a56a7e8",
   "metadata": {},
   "outputs": [],
   "source": [
    "# Save the model to a file\n",
    "model.save('source_classification_using_cnn.h5')"
   ]
  },
  {
   "cell_type": "code",
   "execution_count": 12,
   "id": "268ebeb5",
   "metadata": {},
   "outputs": [
    {
     "name": "stdout",
     "output_type": "stream",
     "text": [
      "Dropping 6 to retrive only signal data.\n",
      "\u001b[1m1/1\u001b[0m \u001b[32m━━━━━━━━━━━━━━━━━━━━\u001b[0m\u001b[37m\u001b[0m \u001b[1m0s\u001b[0m 133ms/step\n",
      "Predicted Source 0\n",
      "\u001b[1m1/1\u001b[0m \u001b[32m━━━━━━━━━━━━━━━━━━━━\u001b[0m\u001b[37m\u001b[0m \u001b[1m0s\u001b[0m 33ms/step\n",
      "Predicted Source 1\n",
      "\u001b[1m1/1\u001b[0m \u001b[32m━━━━━━━━━━━━━━━━━━━━\u001b[0m\u001b[37m\u001b[0m \u001b[1m0s\u001b[0m 21ms/step\n",
      "Predicted Source 0\n",
      "\u001b[1m1/1\u001b[0m \u001b[32m━━━━━━━━━━━━━━━━━━━━\u001b[0m\u001b[37m\u001b[0m \u001b[1m0s\u001b[0m 34ms/step\n",
      "Predicted Source 1\n",
      "\u001b[1m1/1\u001b[0m \u001b[32m━━━━━━━━━━━━━━━━━━━━\u001b[0m\u001b[37m\u001b[0m \u001b[1m0s\u001b[0m 34ms/step\n",
      "Predicted Source 0\n",
      "\u001b[1m1/1\u001b[0m \u001b[32m━━━━━━━━━━━━━━━━━━━━\u001b[0m\u001b[37m\u001b[0m \u001b[1m0s\u001b[0m 33ms/step\n",
      "Predicted Source 1\n",
      "\u001b[1m1/1\u001b[0m \u001b[32m━━━━━━━━━━━━━━━━━━━━\u001b[0m\u001b[37m\u001b[0m \u001b[1m0s\u001b[0m 34ms/step\n",
      "Predicted Source 0\n",
      "\u001b[1m1/1\u001b[0m \u001b[32m━━━━━━━━━━━━━━━━━━━━\u001b[0m\u001b[37m\u001b[0m \u001b[1m0s\u001b[0m 16ms/step\n",
      "Predicted Source 1\n",
      "\u001b[1m1/1\u001b[0m \u001b[32m━━━━━━━━━━━━━━━━━━━━\u001b[0m\u001b[37m\u001b[0m \u001b[1m0s\u001b[0m 35ms/step\n",
      "Predicted Source 0\n",
      "\u001b[1m1/1\u001b[0m \u001b[32m━━━━━━━━━━━━━━━━━━━━\u001b[0m\u001b[37m\u001b[0m \u001b[1m0s\u001b[0m 31ms/step\n",
      "Predicted Source 1\n"
     ]
    }
   ],
   "source": [
    "# Testing on Excel File\n",
    "\n",
    "test_file = Path(r\"excel_files\\test_file.xlsx\")\n",
    "test_df = pd.read_excel(test_file, header=None)\n",
    "total_rows = test_df.shape[0]\n",
    "total_columns = test_df.shape[1]\n",
    "signal_columns = 3400\n",
    "\n",
    "if total_columns > signal_columns:\n",
    "    columns_to_drop = total_columns - signal_columns \n",
    "    test_df = test_df.drop(test_df.columns[:columns_to_drop], axis=1)\n",
    "    print(f\"Dropping {columns_to_drop} to retrive only signal data.\")\n",
    "elif total_columns == signal_columns:\n",
    "    print(\"Signal data provided in excel file, no need to remove any columns.\")\n",
    "else:\n",
    "    print(\"Incorrect signal data provided. please provide signal having 3400 sampled points.\")\n",
    "\n",
    "\n",
    "for counter in range(total_rows):\n",
    "    sample = test_df.iloc[counter].to_numpy()\n",
    "    # Reshape the sample to match the input shape of the model\n",
    "    sample_reshaped = sample.reshape(1, 3400, 1)\n",
    "    # Predict the class (returns a probability)\n",
    "    prediction = model.predict(sample_reshaped)\n",
    "    if prediction > 0.5:\n",
    "        source = 1\n",
    "    else:\n",
    "        source = 0\n",
    "    print(f'Predicted Source {source}')"
   ]
  },
  {
   "cell_type": "code",
   "execution_count": 11,
   "id": "e814bdd2",
   "metadata": {},
   "outputs": [
    {
     "name": "stdout",
     "output_type": "stream",
     "text": [
      "Dropping 6 to retrive only signal data.\n",
      "1/1 [==============================] - 0s 35ms/step\n",
      "Predicted Source 0\n",
      "1/1 [==============================] - 0s 36ms/step\n",
      "Predicted Source 1\n",
      "1/1 [==============================] - 0s 31ms/step\n",
      "Predicted Source 0\n",
      "1/1 [==============================] - 0s 33ms/step\n",
      "Predicted Source 1\n",
      "1/1 [==============================] - 0s 33ms/step\n",
      "Predicted Source 0\n",
      "1/1 [==============================] - 0s 31ms/step\n",
      "Predicted Source 1\n",
      "1/1 [==============================] - 0s 32ms/step\n",
      "Predicted Source 0\n",
      "1/1 [==============================] - 0s 35ms/step\n",
      "Predicted Source 1\n",
      "1/1 [==============================] - 0s 44ms/step\n",
      "Predicted Source 0\n",
      "1/1 [==============================] - 0s 38ms/step\n",
      "Predicted Source 1\n"
     ]
    }
   ],
   "source": [
    "# Testing on Excel File\n",
    "\n",
    "test_file = Path(r\"D:\\Study\\CI\\ComputationalIntelligence\\excel_files\\test_file.xlsx\")\n",
    "test_df = pd.read_excel(test_file, header=None)\n",
    "total_rows = test_df.shape[0]\n",
    "total_columns = test_df.shape[1]\n",
    "signal_columns = 3400\n",
    "\n",
    "if total_columns > signal_columns:\n",
    "    columns_to_drop = total_columns - signal_columns \n",
    "    test_df = test_df.drop(test_df.columns[:columns_to_drop], axis=1)\n",
    "    print(f\"Dropping {columns_to_drop} to retrive only signal data.\")\n",
    "elif total_columns == signal_columns:\n",
    "    print(\"Signal data provided in excel file, no need to remove any columns.\")\n",
    "else:\n",
    "    print(\"Incorrect signal data provided. please provide signal having 3400 sampled points.\")\n",
    "\n",
    "\n",
    "for counter in range(total_rows):\n",
    "    sample = test_df.iloc[counter].to_numpy()\n",
    "    # Reshape the sample to match the input shape of the model\n",
    "    sample_reshaped = sample.reshape(1, 3400, 1)\n",
    "    # Predict the class (returns a probability)\n",
    "    prediction = model.predict(sample_reshaped)\n",
    "    if prediction > 0.5:\n",
    "        source = 1\n",
    "    else:\n",
    "        source = 0\n",
    "    print(f'Predicted Source {source}')"
   ]
  },
  {
   "cell_type": "code",
   "execution_count": null,
   "id": "def04b04-ce2e-4e46-bb66-8ca6e902d733",
   "metadata": {},
   "outputs": [],
   "source": []
  }
 ],
 "metadata": {
  "kernelspec": {
   "display_name": "Python 3 (ipykernel)",
   "language": "python",
   "name": "python3"
  },
  "language_info": {
   "codemirror_mode": {
    "name": "ipython",
    "version": 3
   },
   "file_extension": ".py",
   "mimetype": "text/x-python",
   "name": "python",
   "nbconvert_exporter": "python",
   "pygments_lexer": "ipython3",
   "version": "3.9.13"
  }
 },
 "nbformat": 4,
 "nbformat_minor": 5
}
